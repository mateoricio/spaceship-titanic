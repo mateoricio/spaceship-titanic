{
 "cells": [
  {
   "cell_type": "markdown",
   "metadata": {},
   "source": [
    "## Spaceship Titanic"
   ]
  },
  {
   "cell_type": "code",
   "execution_count": 368,
   "metadata": {},
   "outputs": [],
   "source": [
    "import pandas as pd\n",
    "import numpy as np\n",
    "import matplotlib.pyplot as plt\n",
    "import seaborn as sns\n",
    "import scikitplot as skplt\n",
    "\n",
    "from sklearn.preprocessing import MinMaxScaler"
   ]
  },
  {
   "cell_type": "code",
   "execution_count": 369,
   "metadata": {},
   "outputs": [],
   "source": [
    "df = pd.read_csv('train.csv')"
   ]
  },
  {
   "cell_type": "code",
   "execution_count": 370,
   "metadata": {},
   "outputs": [
    {
     "name": "stdout",
     "output_type": "stream",
     "text": [
      "<class 'pandas.core.frame.DataFrame'>\n",
      "RangeIndex: 8693 entries, 0 to 8692\n",
      "Data columns (total 14 columns):\n",
      " #   Column        Non-Null Count  Dtype  \n",
      "---  ------        --------------  -----  \n",
      " 0   PassengerId   8693 non-null   object \n",
      " 1   HomePlanet    8492 non-null   object \n",
      " 2   CryoSleep     8476 non-null   object \n",
      " 3   Cabin         8494 non-null   object \n",
      " 4   Destination   8511 non-null   object \n",
      " 5   Age           8514 non-null   float64\n",
      " 6   VIP           8490 non-null   object \n",
      " 7   RoomService   8512 non-null   float64\n",
      " 8   FoodCourt     8510 non-null   float64\n",
      " 9   ShoppingMall  8485 non-null   float64\n",
      " 10  Spa           8510 non-null   float64\n",
      " 11  VRDeck        8505 non-null   float64\n",
      " 12  Name          8493 non-null   object \n",
      " 13  Transported   8693 non-null   bool   \n",
      "dtypes: bool(1), float64(6), object(7)\n",
      "memory usage: 891.5+ KB\n"
     ]
    }
   ],
   "source": [
    "df.info()"
   ]
  },
  {
   "cell_type": "code",
   "execution_count": 371,
   "metadata": {},
   "outputs": [
    {
     "data": {
      "text/plain": [
       "PassengerId       0\n",
       "HomePlanet      201\n",
       "CryoSleep       217\n",
       "Cabin           199\n",
       "Destination     182\n",
       "Age             179\n",
       "VIP             203\n",
       "RoomService     181\n",
       "FoodCourt       183\n",
       "ShoppingMall    208\n",
       "Spa             183\n",
       "VRDeck          188\n",
       "Name            200\n",
       "Transported       0\n",
       "dtype: int64"
      ]
     },
     "execution_count": 371,
     "metadata": {},
     "output_type": "execute_result"
    }
   ],
   "source": [
    "df.isnull().sum()"
   ]
  },
  {
   "cell_type": "code",
   "execution_count": 372,
   "metadata": {},
   "outputs": [
    {
     "data": {
      "text/html": [
       "<div>\n",
       "<style scoped>\n",
       "    .dataframe tbody tr th:only-of-type {\n",
       "        vertical-align: middle;\n",
       "    }\n",
       "\n",
       "    .dataframe tbody tr th {\n",
       "        vertical-align: top;\n",
       "    }\n",
       "\n",
       "    .dataframe thead th {\n",
       "        text-align: right;\n",
       "    }\n",
       "</style>\n",
       "<table border=\"1\" class=\"dataframe\">\n",
       "  <thead>\n",
       "    <tr style=\"text-align: right;\">\n",
       "      <th></th>\n",
       "      <th>PassengerId</th>\n",
       "      <th>HomePlanet</th>\n",
       "      <th>CryoSleep</th>\n",
       "      <th>Cabin</th>\n",
       "      <th>Destination</th>\n",
       "      <th>Age</th>\n",
       "      <th>VIP</th>\n",
       "      <th>RoomService</th>\n",
       "      <th>FoodCourt</th>\n",
       "      <th>ShoppingMall</th>\n",
       "      <th>Spa</th>\n",
       "      <th>VRDeck</th>\n",
       "      <th>Name</th>\n",
       "      <th>Transported</th>\n",
       "    </tr>\n",
       "  </thead>\n",
       "  <tbody>\n",
       "    <tr>\n",
       "      <th>6195</th>\n",
       "      <td>6549_01</td>\n",
       "      <td>Mars</td>\n",
       "      <td>False</td>\n",
       "      <td>F/1251/S</td>\n",
       "      <td>TRAPPIST-1e</td>\n",
       "      <td>31.0</td>\n",
       "      <td>False</td>\n",
       "      <td>1979.0</td>\n",
       "      <td>0.0</td>\n",
       "      <td>2.0</td>\n",
       "      <td>112.0</td>\n",
       "      <td>0.0</td>\n",
       "      <td>Eclass Flate</td>\n",
       "      <td>False</td>\n",
       "    </tr>\n",
       "    <tr>\n",
       "      <th>5864</th>\n",
       "      <td>6208_01</td>\n",
       "      <td>Mars</td>\n",
       "      <td>True</td>\n",
       "      <td>F/1279/P</td>\n",
       "      <td>55 Cancri e</td>\n",
       "      <td>59.0</td>\n",
       "      <td>False</td>\n",
       "      <td>0.0</td>\n",
       "      <td>0.0</td>\n",
       "      <td>0.0</td>\n",
       "      <td>0.0</td>\n",
       "      <td>0.0</td>\n",
       "      <td>Seat Burie</td>\n",
       "      <td>True</td>\n",
       "    </tr>\n",
       "    <tr>\n",
       "      <th>4527</th>\n",
       "      <td>4813_01</td>\n",
       "      <td>Europa</td>\n",
       "      <td>False</td>\n",
       "      <td>C/190/S</td>\n",
       "      <td>55 Cancri e</td>\n",
       "      <td>49.0</td>\n",
       "      <td>False</td>\n",
       "      <td>0.0</td>\n",
       "      <td>7762.0</td>\n",
       "      <td>2.0</td>\n",
       "      <td>0.0</td>\n",
       "      <td>98.0</td>\n",
       "      <td>Ruchbia Exhaftearm</td>\n",
       "      <td>True</td>\n",
       "    </tr>\n",
       "    <tr>\n",
       "      <th>8104</th>\n",
       "      <td>8657_01</td>\n",
       "      <td>Mars</td>\n",
       "      <td>False</td>\n",
       "      <td>F/1780/P</td>\n",
       "      <td>TRAPPIST-1e</td>\n",
       "      <td>39.0</td>\n",
       "      <td>False</td>\n",
       "      <td>200.0</td>\n",
       "      <td>0.0</td>\n",
       "      <td>1083.0</td>\n",
       "      <td>65.0</td>\n",
       "      <td>0.0</td>\n",
       "      <td>Caish Harta</td>\n",
       "      <td>True</td>\n",
       "    </tr>\n",
       "    <tr>\n",
       "      <th>7833</th>\n",
       "      <td>8363_02</td>\n",
       "      <td>Europa</td>\n",
       "      <td>False</td>\n",
       "      <td>A/101/S</td>\n",
       "      <td>TRAPPIST-1e</td>\n",
       "      <td>26.0</td>\n",
       "      <td>False</td>\n",
       "      <td>0.0</td>\n",
       "      <td>690.0</td>\n",
       "      <td>1.0</td>\n",
       "      <td>1030.0</td>\n",
       "      <td>2273.0</td>\n",
       "      <td>Dira Crelaxle</td>\n",
       "      <td>False</td>\n",
       "    </tr>\n",
       "    <tr>\n",
       "      <th>7603</th>\n",
       "      <td>8124_01</td>\n",
       "      <td>Earth</td>\n",
       "      <td>False</td>\n",
       "      <td>F/1681/P</td>\n",
       "      <td>TRAPPIST-1e</td>\n",
       "      <td>44.0</td>\n",
       "      <td>False</td>\n",
       "      <td>0.0</td>\n",
       "      <td>903.0</td>\n",
       "      <td>0.0</td>\n",
       "      <td>0.0</td>\n",
       "      <td>0.0</td>\n",
       "      <td>Ryany Paynard</td>\n",
       "      <td>False</td>\n",
       "    </tr>\n",
       "    <tr>\n",
       "      <th>3781</th>\n",
       "      <td>4037_01</td>\n",
       "      <td>Earth</td>\n",
       "      <td>True</td>\n",
       "      <td>G/663/S</td>\n",
       "      <td>PSO J318.5-22</td>\n",
       "      <td>14.0</td>\n",
       "      <td>False</td>\n",
       "      <td>0.0</td>\n",
       "      <td>0.0</td>\n",
       "      <td>0.0</td>\n",
       "      <td>0.0</td>\n",
       "      <td>0.0</td>\n",
       "      <td>Luisy Gardsondez</td>\n",
       "      <td>True</td>\n",
       "    </tr>\n",
       "    <tr>\n",
       "      <th>4419</th>\n",
       "      <td>4693_02</td>\n",
       "      <td>Europa</td>\n",
       "      <td>True</td>\n",
       "      <td>B/186/S</td>\n",
       "      <td>55 Cancri e</td>\n",
       "      <td>65.0</td>\n",
       "      <td>False</td>\n",
       "      <td>0.0</td>\n",
       "      <td>0.0</td>\n",
       "      <td>0.0</td>\n",
       "      <td>0.0</td>\n",
       "      <td>0.0</td>\n",
       "      <td>Schird Rewmid</td>\n",
       "      <td>True</td>\n",
       "    </tr>\n",
       "    <tr>\n",
       "      <th>979</th>\n",
       "      <td>1040_01</td>\n",
       "      <td>Earth</td>\n",
       "      <td>False</td>\n",
       "      <td>G/164/S</td>\n",
       "      <td>PSO J318.5-22</td>\n",
       "      <td>15.0</td>\n",
       "      <td>False</td>\n",
       "      <td>521.0</td>\n",
       "      <td>162.0</td>\n",
       "      <td>62.0</td>\n",
       "      <td>5.0</td>\n",
       "      <td>0.0</td>\n",
       "      <td>Clard Mcbritts</td>\n",
       "      <td>True</td>\n",
       "    </tr>\n",
       "    <tr>\n",
       "      <th>2515</th>\n",
       "      <td>2702_01</td>\n",
       "      <td>Earth</td>\n",
       "      <td>True</td>\n",
       "      <td>G/437/P</td>\n",
       "      <td>TRAPPIST-1e</td>\n",
       "      <td>24.0</td>\n",
       "      <td>False</td>\n",
       "      <td>0.0</td>\n",
       "      <td>0.0</td>\n",
       "      <td>0.0</td>\n",
       "      <td>0.0</td>\n",
       "      <td>0.0</td>\n",
       "      <td>Mollen Garnettiz</td>\n",
       "      <td>True</td>\n",
       "    </tr>\n",
       "  </tbody>\n",
       "</table>\n",
       "</div>"
      ],
      "text/plain": [
       "     PassengerId HomePlanet CryoSleep     Cabin    Destination   Age    VIP  \\\n",
       "6195     6549_01       Mars     False  F/1251/S    TRAPPIST-1e  31.0  False   \n",
       "5864     6208_01       Mars      True  F/1279/P    55 Cancri e  59.0  False   \n",
       "4527     4813_01     Europa     False   C/190/S    55 Cancri e  49.0  False   \n",
       "8104     8657_01       Mars     False  F/1780/P    TRAPPIST-1e  39.0  False   \n",
       "7833     8363_02     Europa     False   A/101/S    TRAPPIST-1e  26.0  False   \n",
       "7603     8124_01      Earth     False  F/1681/P    TRAPPIST-1e  44.0  False   \n",
       "3781     4037_01      Earth      True   G/663/S  PSO J318.5-22  14.0  False   \n",
       "4419     4693_02     Europa      True   B/186/S    55 Cancri e  65.0  False   \n",
       "979      1040_01      Earth     False   G/164/S  PSO J318.5-22  15.0  False   \n",
       "2515     2702_01      Earth      True   G/437/P    TRAPPIST-1e  24.0  False   \n",
       "\n",
       "      RoomService  FoodCourt  ShoppingMall     Spa  VRDeck  \\\n",
       "6195       1979.0        0.0           2.0   112.0     0.0   \n",
       "5864          0.0        0.0           0.0     0.0     0.0   \n",
       "4527          0.0     7762.0           2.0     0.0    98.0   \n",
       "8104        200.0        0.0        1083.0    65.0     0.0   \n",
       "7833          0.0      690.0           1.0  1030.0  2273.0   \n",
       "7603          0.0      903.0           0.0     0.0     0.0   \n",
       "3781          0.0        0.0           0.0     0.0     0.0   \n",
       "4419          0.0        0.0           0.0     0.0     0.0   \n",
       "979         521.0      162.0          62.0     5.0     0.0   \n",
       "2515          0.0        0.0           0.0     0.0     0.0   \n",
       "\n",
       "                    Name  Transported  \n",
       "6195        Eclass Flate        False  \n",
       "5864          Seat Burie         True  \n",
       "4527  Ruchbia Exhaftearm         True  \n",
       "8104         Caish Harta         True  \n",
       "7833       Dira Crelaxle        False  \n",
       "7603       Ryany Paynard        False  \n",
       "3781    Luisy Gardsondez         True  \n",
       "4419       Schird Rewmid         True  \n",
       "979       Clard Mcbritts         True  \n",
       "2515    Mollen Garnettiz         True  "
      ]
     },
     "execution_count": 372,
     "metadata": {},
     "output_type": "execute_result"
    }
   ],
   "source": [
    "df.sample(10)"
   ]
  },
  {
   "cell_type": "markdown",
   "metadata": {},
   "source": [
    "### Data Preprocessing:"
   ]
  },
  {
   "cell_type": "markdown",
   "metadata": {},
   "source": [
    "#### PassengerId:\n",
    "\n",
    "Since it is unique for each passenger it is the primary code of the database and we will use ir as the index."
   ]
  },
  {
   "cell_type": "code",
   "execution_count": 373,
   "metadata": {},
   "outputs": [],
   "source": [
    "df.set_index('PassengerId', inplace = True)"
   ]
  },
  {
   "cell_type": "markdown",
   "metadata": {},
   "source": [
    "#### HomePlanet:\n",
    "\n",
    "Home planet of the passenger. We've got 201 nulls in the parameter. With one-hot-enconding we make a dataframe with the shape:\n",
    "\n",
    "| Planet | Earth | Mars | Europa | \n",
    "|--------|-------|------|--------|\n",
    "| Earth | 1 | 0 | 0 |\n",
    "| Mars  | 0 | 1 | 0 |\n",
    "| Europa | 0 | 0 | 1 | \n",
    "| nan | 0 | 0 | 0 | \n",
    "\n",
    "With this structure we have already treated the null values since the information that we don't know where a passenger is from its implicitly contained."
   ]
  },
  {
   "cell_type": "code",
   "execution_count": 374,
   "metadata": {},
   "outputs": [
    {
     "data": {
      "text/plain": [
       "array(['Europa', 'Earth', 'Mars', nan], dtype=object)"
      ]
     },
     "execution_count": 374,
     "metadata": {},
     "output_type": "execute_result"
    }
   ],
   "source": [
    "df['HomePlanet'].unique()"
   ]
  },
  {
   "cell_type": "code",
   "execution_count": 375,
   "metadata": {},
   "outputs": [
    {
     "data": {
      "image/png": "[encoded data removed]",
      "text/plain": [
       "<Figure size 1080x504 with 1 Axes>"
      ]
     },
     "metadata": {
      "needs_background": "light"
     },
     "output_type": "display_data"
    }
   ],
   "source": [
    "pd.get_dummies(df['HomePlanet']).sum().\\\n",
    "    plot.bar(rot=0, color = 'darkorange', figsize = (15, 7));"
   ]
  },
  {
   "cell_type": "markdown",
   "metadata": {},
   "source": [
    "* Aproximetly the half of the passenger of the Titanic were from planet Earth."
   ]
  },
  {
   "cell_type": "code",
   "execution_count": 376,
   "metadata": {},
   "outputs": [
    {
     "data": {
      "image/png": "[encoded data removed]",
      "text/plain": [
       "<Figure size 432x288 with 1 Axes>"
      ]
     },
     "metadata": {
      "needs_background": "light"
     },
     "output_type": "display_data"
    }
   ],
   "source": [
    "sns.countplot(data=df, x='HomePlanet',hue='Transported');  "
   ]
  },
  {
   "cell_type": "markdown",
   "metadata": {},
   "source": [
    "* Europa's passengers are more likely to be transported than the other passengers."
   ]
  },
  {
   "cell_type": "code",
   "execution_count": 377,
   "metadata": {},
   "outputs": [],
   "source": [
    "df = pd.concat([df, pd.get_dummies(df['HomePlanet'])], axis=1).\\\n",
    "    drop(columns={'HomePlanet'}) # Añadimos las variables dummy a la vez que suprimimos la variable HomePlanet."
   ]
  },
  {
   "cell_type": "code",
   "execution_count": 378,
   "metadata": {},
   "outputs": [
    {
     "data": {
      "text/html": [
       "<div>\n",
       "<style scoped>\n",
       "    .dataframe tbody tr th:only-of-type {\n",
       "        vertical-align: middle;\n",
       "    }\n",
       "\n",
       "    .dataframe tbody tr th {\n",
       "        vertical-align: top;\n",
       "    }\n",
       "\n",
       "    .dataframe thead th {\n",
       "        text-align: right;\n",
       "    }\n",
       "</style>\n",
       "<table border=\"1\" class=\"dataframe\">\n",
       "  <thead>\n",
       "    <tr style=\"text-align: right;\">\n",
       "      <th></th>\n",
       "      <th>CryoSleep</th>\n",
       "      <th>Cabin</th>\n",
       "      <th>Destination</th>\n",
       "      <th>Age</th>\n",
       "      <th>VIP</th>\n",
       "      <th>RoomService</th>\n",
       "      <th>FoodCourt</th>\n",
       "      <th>ShoppingMall</th>\n",
       "      <th>Spa</th>\n",
       "      <th>VRDeck</th>\n",
       "      <th>Name</th>\n",
       "      <th>Transported</th>\n",
       "      <th>Earth</th>\n",
       "      <th>Europa</th>\n",
       "      <th>Mars</th>\n",
       "    </tr>\n",
       "    <tr>\n",
       "      <th>PassengerId</th>\n",
       "      <th></th>\n",
       "      <th></th>\n",
       "      <th></th>\n",
       "      <th></th>\n",
       "      <th></th>\n",
       "      <th></th>\n",
       "      <th></th>\n",
       "      <th></th>\n",
       "      <th></th>\n",
       "      <th></th>\n",
       "      <th></th>\n",
       "      <th></th>\n",
       "      <th></th>\n",
       "      <th></th>\n",
       "      <th></th>\n",
       "    </tr>\n",
       "  </thead>\n",
       "  <tbody>\n",
       "    <tr>\n",
       "      <th>0001_01</th>\n",
       "      <td>False</td>\n",
       "      <td>B/0/P</td>\n",
       "      <td>TRAPPIST-1e</td>\n",
       "      <td>39.0</td>\n",
       "      <td>False</td>\n",
       "      <td>0.0</td>\n",
       "      <td>0.0</td>\n",
       "      <td>0.0</td>\n",
       "      <td>0.0</td>\n",
       "      <td>0.0</td>\n",
       "      <td>Maham Ofracculy</td>\n",
       "      <td>False</td>\n",
       "      <td>0</td>\n",
       "      <td>1</td>\n",
       "      <td>0</td>\n",
       "    </tr>\n",
       "    <tr>\n",
       "      <th>0002_01</th>\n",
       "      <td>False</td>\n",
       "      <td>F/0/S</td>\n",
       "      <td>TRAPPIST-1e</td>\n",
       "      <td>24.0</td>\n",
       "      <td>False</td>\n",
       "      <td>109.0</td>\n",
       "      <td>9.0</td>\n",
       "      <td>25.0</td>\n",
       "      <td>549.0</td>\n",
       "      <td>44.0</td>\n",
       "      <td>Juanna Vines</td>\n",
       "      <td>True</td>\n",
       "      <td>1</td>\n",
       "      <td>0</td>\n",
       "      <td>0</td>\n",
       "    </tr>\n",
       "    <tr>\n",
       "      <th>0003_01</th>\n",
       "      <td>False</td>\n",
       "      <td>A/0/S</td>\n",
       "      <td>TRAPPIST-1e</td>\n",
       "      <td>58.0</td>\n",
       "      <td>True</td>\n",
       "      <td>43.0</td>\n",
       "      <td>3576.0</td>\n",
       "      <td>0.0</td>\n",
       "      <td>6715.0</td>\n",
       "      <td>49.0</td>\n",
       "      <td>Altark Susent</td>\n",
       "      <td>False</td>\n",
       "      <td>0</td>\n",
       "      <td>1</td>\n",
       "      <td>0</td>\n",
       "    </tr>\n",
       "    <tr>\n",
       "      <th>0003_02</th>\n",
       "      <td>False</td>\n",
       "      <td>A/0/S</td>\n",
       "      <td>TRAPPIST-1e</td>\n",
       "      <td>33.0</td>\n",
       "      <td>False</td>\n",
       "      <td>0.0</td>\n",
       "      <td>1283.0</td>\n",
       "      <td>371.0</td>\n",
       "      <td>3329.0</td>\n",
       "      <td>193.0</td>\n",
       "      <td>Solam Susent</td>\n",
       "      <td>False</td>\n",
       "      <td>0</td>\n",
       "      <td>1</td>\n",
       "      <td>0</td>\n",
       "    </tr>\n",
       "    <tr>\n",
       "      <th>0004_01</th>\n",
       "      <td>False</td>\n",
       "      <td>F/1/S</td>\n",
       "      <td>TRAPPIST-1e</td>\n",
       "      <td>16.0</td>\n",
       "      <td>False</td>\n",
       "      <td>303.0</td>\n",
       "      <td>70.0</td>\n",
       "      <td>151.0</td>\n",
       "      <td>565.0</td>\n",
       "      <td>2.0</td>\n",
       "      <td>Willy Santantines</td>\n",
       "      <td>True</td>\n",
       "      <td>1</td>\n",
       "      <td>0</td>\n",
       "      <td>0</td>\n",
       "    </tr>\n",
       "    <tr>\n",
       "      <th>0005_01</th>\n",
       "      <td>False</td>\n",
       "      <td>F/0/P</td>\n",
       "      <td>PSO J318.5-22</td>\n",
       "      <td>44.0</td>\n",
       "      <td>False</td>\n",
       "      <td>0.0</td>\n",
       "      <td>483.0</td>\n",
       "      <td>0.0</td>\n",
       "      <td>291.0</td>\n",
       "      <td>0.0</td>\n",
       "      <td>Sandie Hinetthews</td>\n",
       "      <td>True</td>\n",
       "      <td>1</td>\n",
       "      <td>0</td>\n",
       "      <td>0</td>\n",
       "    </tr>\n",
       "    <tr>\n",
       "      <th>0006_01</th>\n",
       "      <td>False</td>\n",
       "      <td>F/2/S</td>\n",
       "      <td>TRAPPIST-1e</td>\n",
       "      <td>26.0</td>\n",
       "      <td>False</td>\n",
       "      <td>42.0</td>\n",
       "      <td>1539.0</td>\n",
       "      <td>3.0</td>\n",
       "      <td>0.0</td>\n",
       "      <td>0.0</td>\n",
       "      <td>Billex Jacostaffey</td>\n",
       "      <td>True</td>\n",
       "      <td>1</td>\n",
       "      <td>0</td>\n",
       "      <td>0</td>\n",
       "    </tr>\n",
       "    <tr>\n",
       "      <th>0006_02</th>\n",
       "      <td>True</td>\n",
       "      <td>G/0/S</td>\n",
       "      <td>TRAPPIST-1e</td>\n",
       "      <td>28.0</td>\n",
       "      <td>False</td>\n",
       "      <td>0.0</td>\n",
       "      <td>0.0</td>\n",
       "      <td>0.0</td>\n",
       "      <td>0.0</td>\n",
       "      <td>NaN</td>\n",
       "      <td>Candra Jacostaffey</td>\n",
       "      <td>True</td>\n",
       "      <td>1</td>\n",
       "      <td>0</td>\n",
       "      <td>0</td>\n",
       "    </tr>\n",
       "    <tr>\n",
       "      <th>0007_01</th>\n",
       "      <td>False</td>\n",
       "      <td>F/3/S</td>\n",
       "      <td>TRAPPIST-1e</td>\n",
       "      <td>35.0</td>\n",
       "      <td>False</td>\n",
       "      <td>0.0</td>\n",
       "      <td>785.0</td>\n",
       "      <td>17.0</td>\n",
       "      <td>216.0</td>\n",
       "      <td>0.0</td>\n",
       "      <td>Andona Beston</td>\n",
       "      <td>True</td>\n",
       "      <td>1</td>\n",
       "      <td>0</td>\n",
       "      <td>0</td>\n",
       "    </tr>\n",
       "    <tr>\n",
       "      <th>0008_01</th>\n",
       "      <td>True</td>\n",
       "      <td>B/1/P</td>\n",
       "      <td>55 Cancri e</td>\n",
       "      <td>14.0</td>\n",
       "      <td>False</td>\n",
       "      <td>0.0</td>\n",
       "      <td>0.0</td>\n",
       "      <td>0.0</td>\n",
       "      <td>0.0</td>\n",
       "      <td>0.0</td>\n",
       "      <td>Erraiam Flatic</td>\n",
       "      <td>True</td>\n",
       "      <td>0</td>\n",
       "      <td>1</td>\n",
       "      <td>0</td>\n",
       "    </tr>\n",
       "    <tr>\n",
       "      <th>0008_02</th>\n",
       "      <td>True</td>\n",
       "      <td>B/1/P</td>\n",
       "      <td>TRAPPIST-1e</td>\n",
       "      <td>34.0</td>\n",
       "      <td>False</td>\n",
       "      <td>0.0</td>\n",
       "      <td>0.0</td>\n",
       "      <td>NaN</td>\n",
       "      <td>0.0</td>\n",
       "      <td>0.0</td>\n",
       "      <td>Altardr Flatic</td>\n",
       "      <td>True</td>\n",
       "      <td>0</td>\n",
       "      <td>1</td>\n",
       "      <td>0</td>\n",
       "    </tr>\n",
       "    <tr>\n",
       "      <th>0008_03</th>\n",
       "      <td>False</td>\n",
       "      <td>B/1/P</td>\n",
       "      <td>55 Cancri e</td>\n",
       "      <td>45.0</td>\n",
       "      <td>False</td>\n",
       "      <td>39.0</td>\n",
       "      <td>7295.0</td>\n",
       "      <td>589.0</td>\n",
       "      <td>110.0</td>\n",
       "      <td>124.0</td>\n",
       "      <td>Wezena Flatic</td>\n",
       "      <td>True</td>\n",
       "      <td>0</td>\n",
       "      <td>1</td>\n",
       "      <td>0</td>\n",
       "    </tr>\n",
       "    <tr>\n",
       "      <th>0009_01</th>\n",
       "      <td>False</td>\n",
       "      <td>F/1/P</td>\n",
       "      <td>TRAPPIST-1e</td>\n",
       "      <td>32.0</td>\n",
       "      <td>False</td>\n",
       "      <td>73.0</td>\n",
       "      <td>0.0</td>\n",
       "      <td>1123.0</td>\n",
       "      <td>0.0</td>\n",
       "      <td>113.0</td>\n",
       "      <td>Berers Barne</td>\n",
       "      <td>True</td>\n",
       "      <td>0</td>\n",
       "      <td>0</td>\n",
       "      <td>1</td>\n",
       "    </tr>\n",
       "    <tr>\n",
       "      <th>0010_01</th>\n",
       "      <td>False</td>\n",
       "      <td>G/1/S</td>\n",
       "      <td>TRAPPIST-1e</td>\n",
       "      <td>48.0</td>\n",
       "      <td>False</td>\n",
       "      <td>719.0</td>\n",
       "      <td>1.0</td>\n",
       "      <td>65.0</td>\n",
       "      <td>0.0</td>\n",
       "      <td>24.0</td>\n",
       "      <td>Reney Baketton</td>\n",
       "      <td>False</td>\n",
       "      <td>1</td>\n",
       "      <td>0</td>\n",
       "      <td>0</td>\n",
       "    </tr>\n",
       "    <tr>\n",
       "      <th>0011_01</th>\n",
       "      <td>False</td>\n",
       "      <td>F/2/P</td>\n",
       "      <td>TRAPPIST-1e</td>\n",
       "      <td>28.0</td>\n",
       "      <td>False</td>\n",
       "      <td>8.0</td>\n",
       "      <td>974.0</td>\n",
       "      <td>12.0</td>\n",
       "      <td>2.0</td>\n",
       "      <td>7.0</td>\n",
       "      <td>Elle Bertsontry</td>\n",
       "      <td>True</td>\n",
       "      <td>1</td>\n",
       "      <td>0</td>\n",
       "      <td>0</td>\n",
       "    </tr>\n",
       "  </tbody>\n",
       "</table>\n",
       "</div>"
      ],
      "text/plain": [
       "            CryoSleep  Cabin    Destination   Age    VIP  RoomService  \\\n",
       "PassengerId                                                             \n",
       "0001_01         False  B/0/P    TRAPPIST-1e  39.0  False          0.0   \n",
       "0002_01         False  F/0/S    TRAPPIST-1e  24.0  False        109.0   \n",
       "0003_01         False  A/0/S    TRAPPIST-1e  58.0   True         43.0   \n",
       "0003_02         False  A/0/S    TRAPPIST-1e  33.0  False          0.0   \n",
       "0004_01         False  F/1/S    TRAPPIST-1e  16.0  False        303.0   \n",
       "0005_01         False  F/0/P  PSO J318.5-22  44.0  False          0.0   \n",
       "0006_01         False  F/2/S    TRAPPIST-1e  26.0  False         42.0   \n",
       "0006_02          True  G/0/S    TRAPPIST-1e  28.0  False          0.0   \n",
       "0007_01         False  F/3/S    TRAPPIST-1e  35.0  False          0.0   \n",
       "0008_01          True  B/1/P    55 Cancri e  14.0  False          0.0   \n",
       "0008_02          True  B/1/P    TRAPPIST-1e  34.0  False          0.0   \n",
       "0008_03         False  B/1/P    55 Cancri e  45.0  False         39.0   \n",
       "0009_01         False  F/1/P    TRAPPIST-1e  32.0  False         73.0   \n",
       "0010_01         False  G/1/S    TRAPPIST-1e  48.0  False        719.0   \n",
       "0011_01         False  F/2/P    TRAPPIST-1e  28.0  False          8.0   \n",
       "\n",
       "             FoodCourt  ShoppingMall     Spa  VRDeck                Name  \\\n",
       "PassengerId                                                                \n",
       "0001_01            0.0           0.0     0.0     0.0     Maham Ofracculy   \n",
       "0002_01            9.0          25.0   549.0    44.0        Juanna Vines   \n",
       "0003_01         3576.0           0.0  6715.0    49.0       Altark Susent   \n",
       "0003_02         1283.0         371.0  3329.0   193.0        Solam Susent   \n",
       "0004_01           70.0         151.0   565.0     2.0   Willy Santantines   \n",
       "0005_01          483.0           0.0   291.0     0.0   Sandie Hinetthews   \n",
       "0006_01         1539.0           3.0     0.0     0.0  Billex Jacostaffey   \n",
       "0006_02            0.0           0.0     0.0     NaN  Candra Jacostaffey   \n",
       "0007_01          785.0          17.0   216.0     0.0       Andona Beston   \n",
       "0008_01            0.0           0.0     0.0     0.0      Erraiam Flatic   \n",
       "0008_02            0.0           NaN     0.0     0.0      Altardr Flatic   \n",
       "0008_03         7295.0         589.0   110.0   124.0       Wezena Flatic   \n",
       "0009_01            0.0        1123.0     0.0   113.0        Berers Barne   \n",
       "0010_01            1.0          65.0     0.0    24.0      Reney Baketton   \n",
       "0011_01          974.0          12.0     2.0     7.0     Elle Bertsontry   \n",
       "\n",
       "             Transported  Earth  Europa  Mars  \n",
       "PassengerId                                    \n",
       "0001_01            False      0       1     0  \n",
       "0002_01             True      1       0     0  \n",
       "0003_01            False      0       1     0  \n",
       "0003_02            False      0       1     0  \n",
       "0004_01             True      1       0     0  \n",
       "0005_01             True      1       0     0  \n",
       "0006_01             True      1       0     0  \n",
       "0006_02             True      1       0     0  \n",
       "0007_01             True      1       0     0  \n",
       "0008_01             True      0       1     0  \n",
       "0008_02             True      0       1     0  \n",
       "0008_03             True      0       1     0  \n",
       "0009_01             True      0       0     1  \n",
       "0010_01            False      1       0     0  \n",
       "0011_01             True      1       0     0  "
      ]
     },
     "execution_count": 378,
     "metadata": {},
     "output_type": "execute_result"
    }
   ],
   "source": [
    "df.head(15)"
   ]
  },
  {
   "cell_type": "markdown",
   "metadata": {},
   "source": [
    "#### Cryosleep:\n",
    "\n",
    "Boolean variable, with 217 null values. We will impose that all the passengers with a null value in this parameter weren't cryosleeping. Since most of the passenger weren't cryosleeping we expect that the proportion of passengers cryosleeping and not cryosleeping doesn't change for the sample of the passengers with a null value in this parameter."
   ]
  },
  {
   "cell_type": "code",
   "execution_count": 379,
   "metadata": {},
   "outputs": [
    {
     "data": {
      "image/png": "[encoded data removed]",
      "text/plain": [
       "<Figure size 1080x504 with 1 Axes>"
      ]
     },
     "metadata": {
      "needs_background": "light"
     },
     "output_type": "display_data"
    }
   ],
   "source": [
    "pd.get_dummies(df['CryoSleep']).sum().\\\n",
    "    plot.bar(rot=0, color = 'skyblue', figsize = (15, 7));"
   ]
  },
  {
   "cell_type": "markdown",
   "metadata": {},
   "source": [
    "* Only one third of the passengers were cryosleeping."
   ]
  },
  {
   "cell_type": "code",
   "execution_count": 380,
   "metadata": {},
   "outputs": [
    {
     "data": {
      "image/png": "[encoded data removed]",
      "text/plain": [
       "<Figure size 432x288 with 1 Axes>"
      ]
     },
     "metadata": {
      "needs_background": "light"
     },
     "output_type": "display_data"
    }
   ],
   "source": [
    "sns.countplot(data=df, x='CryoSleep',hue='Transported');  "
   ]
  },
  {
   "cell_type": "markdown",
   "metadata": {},
   "source": [
    "* But most of them were transportated."
   ]
  },
  {
   "cell_type": "code",
   "execution_count": 381,
   "metadata": {},
   "outputs": [],
   "source": [
    "df = pd.concat([df, pd.get_dummies(df['CryoSleep'])], axis=1).\\\n",
    "    rename(columns={True:'cryosleep', False:'no_cryosleeper'}).\\\n",
    "    drop(columns={'CryoSleep', 'no_cryosleeper'}) \n",
    "    "
   ]
  },
  {
   "cell_type": "markdown",
   "metadata": {},
   "source": [
    "#### Cabin\n",
    "\n",
    "String with the shape *d/num/side*, with 199 null values.\n",
    "\n",
    "From this cabin parameter we will only look if the cabin of the passenger were on the port *P* or the starboard *S*. Maybe the impact with the wormhole affected more one side of the spaceship.\n",
    "\n",
    "Since we have null values the first steep is to treat them:"
   ]
  },
  {
   "cell_type": "code",
   "execution_count": 382,
   "metadata": {},
   "outputs": [],
   "source": [
    "df['Cabin'].fillna('x/0/x', inplace = True) # cast the null values to string and the same format as the not null values in order to process them."
   ]
  },
  {
   "cell_type": "code",
   "execution_count": 383,
   "metadata": {},
   "outputs": [],
   "source": [
    "df['Side'] = [ df['Cabin'].str.split('/')[x][2] for x in range(len(df)) ] "
   ]
  },
  {
   "cell_type": "code",
   "execution_count": 384,
   "metadata": {},
   "outputs": [
    {
     "data": {
      "image/png": "[encoded data removed]",
      "text/plain": [
       "<Figure size 432x288 with 1 Axes>"
      ]
     },
     "metadata": {
      "needs_background": "light"
     },
     "output_type": "display_data"
    }
   ],
   "source": [
    "sns.countplot(data=df, x='Side',hue='Transported');  "
   ]
  },
  {
   "cell_type": "markdown",
   "metadata": {},
   "source": [
    "* As we expected the Starboard was more afected by the impact."
   ]
  },
  {
   "cell_type": "code",
   "execution_count": 385,
   "metadata": {},
   "outputs": [
    {
     "data": {
      "image/png": "[encoded data removed]",
      "text/plain": [
       "<Figure size 1080x504 with 1 Axes>"
      ]
     },
     "metadata": {
      "needs_background": "light"
     },
     "output_type": "display_data"
    }
   ],
   "source": [
    "pd.get_dummies(df['Side']).sum().\\\n",
    "    plot.bar(rot=0, color = 'darkgrey', figsize = (15, 7));"
   ]
  },
  {
   "cell_type": "markdown",
   "metadata": {},
   "source": [
    "* We can see how the passengers are well distribuited along the spaceship. If this parameter takes importance to the model we'll demonstrate that the impact affected one side more than the other."
   ]
  },
  {
   "cell_type": "code",
   "execution_count": 386,
   "metadata": {},
   "outputs": [],
   "source": [
    "df = pd.concat([df, pd.get_dummies(df['Side'])], axis = 1).\\\n",
    "    drop(columns={'Side', 'x', 'Cabin', 'P'}).\\\n",
    "    rename(columns={'S':'starboard_cabin'})"
   ]
  },
  {
   "cell_type": "markdown",
   "metadata": {},
   "source": [
    "#### Destination\n",
    "\n",
    "String with 182 null values. we treat the variable with one-hot-encoding and we will follow the same strategy with the hull values that we applied for *HomePlanet*."
   ]
  },
  {
   "cell_type": "code",
   "execution_count": 387,
   "metadata": {},
   "outputs": [
    {
     "data": {
      "text/plain": [
       "array(['TRAPPIST-1e', 'PSO J318.5-22', '55 Cancri e', nan], dtype=object)"
      ]
     },
     "execution_count": 387,
     "metadata": {},
     "output_type": "execute_result"
    }
   ],
   "source": [
    "df['Destination'].unique()"
   ]
  },
  {
   "cell_type": "code",
   "execution_count": 388,
   "metadata": {},
   "outputs": [],
   "source": [
    "df = pd.concat([df, pd.get_dummies(df['Destination'])], axis = 1).\\\n",
    "    drop(columns={'Destination'}).\\\n",
    "    rename(columns={'TRAPPIST-1e':'destination_trappist', 'PSO J318.5-22':'destination_pso', '55 Cancri e':'destination_cancri'})"
   ]
  },
  {
   "cell_type": "markdown",
   "metadata": {},
   "source": [
    "#### Age\n",
    "\n",
    "In this case we will normalize the variable. To treat the null values we will fill them with random values in the range of our data that don't change the statistical description of our distribution.\n",
    "\n",
    "We should avoid fill the nulls with just one value like the mean or the median because then the model will take those values more in account. In order to achieve this we will simulate the ages of the passengers that we dont have."
   ]
  },
  {
   "cell_type": "code",
   "execution_count": 389,
   "metadata": {},
   "outputs": [
    {
     "data": {
      "image/png": "[encoded data removed]",
      "text/plain": [
       "<Figure size 1080x504 with 1 Axes>"
      ]
     },
     "metadata": {
      "needs_background": "light"
     },
     "output_type": "display_data"
    }
   ],
   "source": [
    "df['Age'].plot.hist(bins=20, color='lightgreen', figsize=(15,7));"
   ]
  },
  {
   "cell_type": "code",
   "execution_count": 390,
   "metadata": {},
   "outputs": [],
   "source": [
    "df['Age'].fillna(np.random.normal(df['Age'].mean(), df['Age'].std()), inplace=True) # We work with a normal distribution without taking in consideration the skewness, unlike the real distribution of ages."
   ]
  },
  {
   "cell_type": "code",
   "execution_count": 391,
   "metadata": {},
   "outputs": [
    {
     "data": {
      "image/png": "[encoded data removed]",
      "text/plain": [
       "<Figure size 1080x504 with 1 Axes>"
      ]
     },
     "metadata": {
      "needs_background": "light"
     },
     "output_type": "display_data"
    }
   ],
   "source": [
    "df['Age'].plot.hist(bins=20, color='darkgreen', figsize=(15,7));"
   ]
  },
  {
   "cell_type": "code",
   "execution_count": 392,
   "metadata": {},
   "outputs": [],
   "source": [
    "scaler = MinMaxScaler()\n",
    "\n",
    "df['norm_age'] = scaler.fit_transform(np.array(df['Age']).reshape(-1, 1))\n",
    "# df.drop(columns={'Age'}, inplace=True)"
   ]
  },
  {
   "cell_type": "markdown",
   "metadata": {},
   "source": [
    "#### VIP\n",
    "\n",
    "As we did with the CryoSleep parameter we create two paramaters from VIP through *get_dummies* function. Since we can see how there are quite less VIP passengers than regular passengers we will assume that all the null values weren't VIP (because it is expected that most of them weren't)."
   ]
  },
  {
   "cell_type": "code",
   "execution_count": 393,
   "metadata": {},
   "outputs": [
    {
     "data": {
      "text/plain": [
       "<AxesSubplot:>"
      ]
     },
     "execution_count": 393,
     "metadata": {},
     "output_type": "execute_result"
    },
    {
     "data": {
      "image/png": "[encoded data removed]",
      "text/plain": [
       "<Figure size 1080x504 with 1 Axes>"
      ]
     },
     "metadata": {
      "needs_background": "light"
     },
     "output_type": "display_data"
    }
   ],
   "source": [
    "pd.get_dummies(df['VIP']).sum().plot.bar(color='silver', figsize=(15,7))"
   ]
  },
  {
   "cell_type": "code",
   "execution_count": 394,
   "metadata": {},
   "outputs": [],
   "source": [
    "df = pd.concat([df, pd.get_dummies(df['VIP'])], axis = 1).\\\n",
    "    drop(columns={'VIP', False}).\\\n",
    "    rename(columns={True:'VIP'})"
   ]
  },
  {
   "cell_type": "markdown",
   "metadata": {},
   "source": [
    "#### Passenger Luxury Expenses: RoomService, FoodCourt, ShoppingMall, Spa, VRDeck\n",
    "\n",
    "Since all these variables have the same nature we will treat them equally by creating a parameter as the sum of all of them:\n",
    "\n",
    "As their name suggest they are luxury expenses so we will follow the next strategy:\n",
    "\n",
    "* Checking the data we can observe how the VIP have much higher expenses than the rest of the passengers, and it is expected that the passengers who are crysleeping don't have expenses at all. So:\n",
    "\n",
    "* For the null values in the regular passengers and the passengers who are cryosleeping we will assume that their expenses were 0.\n",
    "\n",
    "* For the VIP passengers we will take the mean of the VIP as the expected value for the expenses in the null values."
   ]
  },
  {
   "cell_type": "code",
   "execution_count": 395,
   "metadata": {},
   "outputs": [],
   "source": [
    "df['luxury_expenses'] = df['RoomService'] + df['FoodCourt'] + df['ShoppingMall'] + df['Spa'] + df['VRDeck']\n",
    "\n",
    "df.drop(columns={'Name', 'Age' ,'RoomService', 'FoodCourt', 'ShoppingMall', 'Spa', 'VRDeck'}, inplace = True) # We drop the parameters that won't be part of the training set"
   ]
  },
  {
   "cell_type": "code",
   "execution_count": 396,
   "metadata": {},
   "outputs": [
    {
     "name": "stdout",
     "output_type": "stream",
     "text": [
      "<class 'pandas.core.frame.DataFrame'>\n",
      "Index: 8693 entries, 0001_01 to 9280_02\n",
      "Data columns (total 12 columns):\n",
      " #   Column                Non-Null Count  Dtype  \n",
      "---  ------                --------------  -----  \n",
      " 0   Transported           8693 non-null   bool   \n",
      " 1   Earth                 8693 non-null   uint8  \n",
      " 2   Europa                8693 non-null   uint8  \n",
      " 3   Mars                  8693 non-null   uint8  \n",
      " 4   cryosleeper           8693 non-null   uint8  \n",
      " 5   starboard_cabin       8693 non-null   uint8  \n",
      " 6   destination_cancri    8693 non-null   uint8  \n",
      " 7   destination_pso       8693 non-null   uint8  \n",
      " 8   destination_trappist  8693 non-null   uint8  \n",
      " 9   norm_age              8693 non-null   float64\n",
      " 10  VIP                   8693 non-null   uint8  \n",
      " 11  luxury_expenses       7785 non-null   float64\n",
      "dtypes: bool(1), float64(2), uint8(9)\n",
      "memory usage: 546.7+ KB\n"
     ]
    }
   ],
   "source": [
    "df.info()"
   ]
  },
  {
   "cell_type": "code",
   "execution_count": 397,
   "metadata": {},
   "outputs": [],
   "source": [
    "df['luxury_expenses'].mask ( (df['VIP'] == 1) & (df['luxury_expenses']), df['luxury_expenses'].loc[df['VIP'] == 1].mean(), inplace = True)\n",
    "df['luxury_expenses'].fillna(0., inplace = True) # For the case of the non vip passengers, since most of them didn't spent money in luxury expenses we apply the mode; 0."
   ]
  },
  {
   "cell_type": "code",
   "execution_count": 398,
   "metadata": {},
   "outputs": [
    {
     "name": "stdout",
     "output_type": "stream",
     "text": [
      "<class 'pandas.core.frame.DataFrame'>\n",
      "Index: 8693 entries, 0001_01 to 9280_02\n",
      "Data columns (total 12 columns):\n",
      " #   Column                Non-Null Count  Dtype  \n",
      "---  ------                --------------  -----  \n",
      " 0   Transported           8693 non-null   bool   \n",
      " 1   Earth                 8693 non-null   uint8  \n",
      " 2   Europa                8693 non-null   uint8  \n",
      " 3   Mars                  8693 non-null   uint8  \n",
      " 4   cryosleeper           8693 non-null   uint8  \n",
      " 5   starboard_cabin       8693 non-null   uint8  \n",
      " 6   destination_cancri    8693 non-null   uint8  \n",
      " 7   destination_pso       8693 non-null   uint8  \n",
      " 8   destination_trappist  8693 non-null   uint8  \n",
      " 9   norm_age              8693 non-null   float64\n",
      " 10  VIP                   8693 non-null   uint8  \n",
      " 11  luxury_expenses       8693 non-null   float64\n",
      "dtypes: bool(1), float64(2), uint8(9)\n",
      "memory usage: 546.7+ KB\n"
     ]
    }
   ],
   "source": [
    "df.info() # The\n",
    "# df['luxury_expenses'].loc[df['VIP'] == 0].mode()"
   ]
  },
  {
   "cell_type": "code",
   "execution_count": 399,
   "metadata": {},
   "outputs": [],
   "source": [
    "df['norm_luxury_expenses'] = scaler.fit_transform(np.array(df['luxury_expenses']).reshape(-1, 1)) # Scaling the values of the expenses too.\n",
    "\n",
    "df.drop(columns={'luxury_expenses'}, inplace=True)"
   ]
  },
  {
   "cell_type": "markdown",
   "metadata": {},
   "source": [
    "### Transported\n",
    "\n",
    "In order to use it as the parameter to be predicted we use one-hot-encoding to transform it into numeric:"
   ]
  },
  {
   "cell_type": "code",
   "execution_count": 400,
   "metadata": {},
   "outputs": [],
   "source": [
    "df = pd.concat([df, pd.get_dummies(df['Transported'])], axis = 1).\\\n",
    "    drop(columns={'Transported', False}).\\\n",
    "    rename(columns={True:'transported'})"
   ]
  },
  {
   "cell_type": "markdown",
   "metadata": {},
   "source": [
    "## Model:\n",
    "\n",
    "In order to predict if a passensge"
   ]
  },
  {
   "cell_type": "code",
   "execution_count": 401,
   "metadata": {},
   "outputs": [
    {
     "data": {
      "text/html": [
       "<div>\n",
       "<style scoped>\n",
       "    .dataframe tbody tr th:only-of-type {\n",
       "        vertical-align: middle;\n",
       "    }\n",
       "\n",
       "    .dataframe tbody tr th {\n",
       "        vertical-align: top;\n",
       "    }\n",
       "\n",
       "    .dataframe thead th {\n",
       "        text-align: right;\n",
       "    }\n",
       "</style>\n",
       "<table border=\"1\" class=\"dataframe\">\n",
       "  <thead>\n",
       "    <tr style=\"text-align: right;\">\n",
       "      <th></th>\n",
       "      <th>Earth</th>\n",
       "      <th>Europa</th>\n",
       "      <th>Mars</th>\n",
       "      <th>cryosleeper</th>\n",
       "      <th>starboard_cabin</th>\n",
       "      <th>destination_cancri</th>\n",
       "      <th>destination_pso</th>\n",
       "      <th>destination_trappist</th>\n",
       "      <th>norm_age</th>\n",
       "      <th>VIP</th>\n",
       "      <th>norm_luxury_expenses</th>\n",
       "      <th>transported</th>\n",
       "    </tr>\n",
       "    <tr>\n",
       "      <th>PassengerId</th>\n",
       "      <th></th>\n",
       "      <th></th>\n",
       "      <th></th>\n",
       "      <th></th>\n",
       "      <th></th>\n",
       "      <th></th>\n",
       "      <th></th>\n",
       "      <th></th>\n",
       "      <th></th>\n",
       "      <th></th>\n",
       "      <th></th>\n",
       "      <th></th>\n",
       "    </tr>\n",
       "  </thead>\n",
       "  <tbody>\n",
       "    <tr>\n",
       "      <th>0001_01</th>\n",
       "      <td>0</td>\n",
       "      <td>1</td>\n",
       "      <td>0</td>\n",
       "      <td>0</td>\n",
       "      <td>0</td>\n",
       "      <td>0</td>\n",
       "      <td>0</td>\n",
       "      <td>1</td>\n",
       "      <td>0.493671</td>\n",
       "      <td>0</td>\n",
       "      <td>0.000000</td>\n",
       "      <td>0</td>\n",
       "    </tr>\n",
       "    <tr>\n",
       "      <th>0002_01</th>\n",
       "      <td>1</td>\n",
       "      <td>0</td>\n",
       "      <td>0</td>\n",
       "      <td>0</td>\n",
       "      <td>1</td>\n",
       "      <td>0</td>\n",
       "      <td>0</td>\n",
       "      <td>1</td>\n",
       "      <td>0.303797</td>\n",
       "      <td>0</td>\n",
       "      <td>0.020452</td>\n",
       "      <td>1</td>\n",
       "    </tr>\n",
       "    <tr>\n",
       "      <th>0003_01</th>\n",
       "      <td>0</td>\n",
       "      <td>1</td>\n",
       "      <td>0</td>\n",
       "      <td>0</td>\n",
       "      <td>1</td>\n",
       "      <td>0</td>\n",
       "      <td>0</td>\n",
       "      <td>1</td>\n",
       "      <td>0.734177</td>\n",
       "      <td>1</td>\n",
       "      <td>0.127817</td>\n",
       "      <td>0</td>\n",
       "    </tr>\n",
       "    <tr>\n",
       "      <th>0003_02</th>\n",
       "      <td>0</td>\n",
       "      <td>1</td>\n",
       "      <td>0</td>\n",
       "      <td>0</td>\n",
       "      <td>1</td>\n",
       "      <td>0</td>\n",
       "      <td>0</td>\n",
       "      <td>1</td>\n",
       "      <td>0.417722</td>\n",
       "      <td>0</td>\n",
       "      <td>0.143830</td>\n",
       "      <td>0</td>\n",
       "    </tr>\n",
       "    <tr>\n",
       "      <th>0004_01</th>\n",
       "      <td>1</td>\n",
       "      <td>0</td>\n",
       "      <td>0</td>\n",
       "      <td>0</td>\n",
       "      <td>1</td>\n",
       "      <td>0</td>\n",
       "      <td>0</td>\n",
       "      <td>1</td>\n",
       "      <td>0.202532</td>\n",
       "      <td>0</td>\n",
       "      <td>0.030317</td>\n",
       "      <td>1</td>\n",
       "    </tr>\n",
       "  </tbody>\n",
       "</table>\n",
       "</div>"
      ],
      "text/plain": [
       "             Earth  Europa  Mars  cryosleeper  starboard_cabin  \\\n",
       "PassengerId                                                      \n",
       "0001_01          0       1     0            0                0   \n",
       "0002_01          1       0     0            0                1   \n",
       "0003_01          0       1     0            0                1   \n",
       "0003_02          0       1     0            0                1   \n",
       "0004_01          1       0     0            0                1   \n",
       "\n",
       "             destination_cancri  destination_pso  destination_trappist  \\\n",
       "PassengerId                                                              \n",
       "0001_01                       0                0                     1   \n",
       "0002_01                       0                0                     1   \n",
       "0003_01                       0                0                     1   \n",
       "0003_02                       0                0                     1   \n",
       "0004_01                       0                0                     1   \n",
       "\n",
       "             norm_age  VIP  norm_luxury_expenses  transported  \n",
       "PassengerId                                                    \n",
       "0001_01      0.493671    0              0.000000            0  \n",
       "0002_01      0.303797    0              0.020452            1  \n",
       "0003_01      0.734177    1              0.127817            0  \n",
       "0003_02      0.417722    0              0.143830            0  \n",
       "0004_01      0.202532    0              0.030317            1  "
      ]
     },
     "execution_count": 401,
     "metadata": {},
     "output_type": "execute_result"
    }
   ],
   "source": [
    "df.head()"
   ]
  }
 ],
 "metadata": {
  "kernelspec": {
   "display_name": "Python 3.9.5 ('base')",
   "language": "python",
   "name": "python3"
  },
  "language_info": {
   "codemirror_mode": {
    "name": "ipython",
    "version": 3
   },
   "file_extension": ".py",
   "mimetype": "text/x-python",
   "name": "python",
   "nbconvert_exporter": "python",
   "pygments_lexer": "ipython3",
   "version": "3.9.5"
  },
  "orig_nbformat": 4,
  "vscode": {
   "interpreter": {
    "hash": "dc853d72977edee79a03e6648e669c8a87fe12e7f771bf79b92da7e8c0e157c8"
   }
  }
 },
 "nbformat": 4,
 "nbformat_minor": 2
}
